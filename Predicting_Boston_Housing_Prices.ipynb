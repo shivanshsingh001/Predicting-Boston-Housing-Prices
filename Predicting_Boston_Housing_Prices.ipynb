{
 "cells": [
  {
   "cell_type": "code",
   "execution_count": 3,
   "metadata": {},
   "outputs": [
    {
     "ename": "ModuleNotFoundError",
     "evalue": "No module named 'sklearn.learning_curve'",
     "output_type": "error",
     "traceback": [
      "\u001b[1;31m---------------------------------------------------------------------------\u001b[0m",
      "\u001b[1;31mModuleNotFoundError\u001b[0m                       Traceback (most recent call last)",
      "\u001b[1;32m<ipython-input-3-77166c092ba6>\u001b[0m in \u001b[0;36m<module>\u001b[1;34m\u001b[0m\n\u001b[0;32m      8\u001b[0m \u001b[1;31m#from sklearn.learning_curve import learning_curve\u001b[0m\u001b[1;33m\u001b[0m\u001b[1;33m\u001b[0m\u001b[1;33m\u001b[0m\u001b[0m\n\u001b[0;32m      9\u001b[0m \u001b[1;32mfrom\u001b[0m \u001b[0msklearn\u001b[0m\u001b[1;33m.\u001b[0m\u001b[0mmodel_selection\u001b[0m \u001b[1;32mimport\u001b[0m \u001b[0mtrain_test_split\u001b[0m\u001b[1;33m\u001b[0m\u001b[1;33m\u001b[0m\u001b[0m\n\u001b[1;32m---> 10\u001b[1;33m \u001b[1;32mfrom\u001b[0m \u001b[0mvisuals\u001b[0m \u001b[1;32mimport\u001b[0m \u001b[1;33m*\u001b[0m \u001b[1;31m#visuals.py\u001b[0m\u001b[1;33m\u001b[0m\u001b[1;33m\u001b[0m\u001b[0m\n\u001b[0m\u001b[0;32m     11\u001b[0m \u001b[1;33m\u001b[0m\u001b[0m\n\u001b[0;32m     12\u001b[0m \u001b[0mget_ipython\u001b[0m\u001b[1;33m(\u001b[0m\u001b[1;33m)\u001b[0m\u001b[1;33m.\u001b[0m\u001b[0mrun_line_magic\u001b[0m\u001b[1;33m(\u001b[0m\u001b[1;34m'matplotlib'\u001b[0m\u001b[1;33m,\u001b[0m \u001b[1;34m'inline #for better presentation'\u001b[0m\u001b[1;33m)\u001b[0m\u001b[1;33m\u001b[0m\u001b[1;33m\u001b[0m\u001b[0m\n",
      "\u001b[1;32m~\\Downloads\\P1\\visuals.py\u001b[0m in \u001b[0;36m<module>\u001b[1;34m\u001b[0m\n\u001b[0;32m     12\u001b[0m \u001b[1;32mimport\u001b[0m \u001b[0mmatplotlib\u001b[0m\u001b[1;33m.\u001b[0m\u001b[0mpyplot\u001b[0m \u001b[1;32mas\u001b[0m \u001b[0mpl\u001b[0m\u001b[1;33m\u001b[0m\u001b[1;33m\u001b[0m\u001b[0m\n\u001b[0;32m     13\u001b[0m \u001b[1;32mimport\u001b[0m \u001b[0mnumpy\u001b[0m \u001b[1;32mas\u001b[0m \u001b[0mnp\u001b[0m\u001b[1;33m\u001b[0m\u001b[1;33m\u001b[0m\u001b[0m\n\u001b[1;32m---> 14\u001b[1;33m \u001b[1;32mimport\u001b[0m \u001b[0msklearn\u001b[0m\u001b[1;33m.\u001b[0m\u001b[0mlearning_curve\u001b[0m \u001b[1;32mas\u001b[0m \u001b[0mcurves\u001b[0m\u001b[1;33m\u001b[0m\u001b[1;33m\u001b[0m\u001b[0m\n\u001b[0m\u001b[0;32m     15\u001b[0m \u001b[1;32mfrom\u001b[0m \u001b[0msklearn\u001b[0m\u001b[1;33m.\u001b[0m\u001b[0mtree\u001b[0m \u001b[1;32mimport\u001b[0m \u001b[0mDecisionTreeRegressor\u001b[0m\u001b[1;33m\u001b[0m\u001b[1;33m\u001b[0m\u001b[0m\n\u001b[0;32m     16\u001b[0m \u001b[1;32mfrom\u001b[0m \u001b[0msklearn\u001b[0m\u001b[1;33m.\u001b[0m\u001b[0mcross_validation\u001b[0m \u001b[1;32mimport\u001b[0m \u001b[0mShuffleSplit\u001b[0m\u001b[1;33m,\u001b[0m \u001b[0mtrain_test_split\u001b[0m\u001b[1;33m\u001b[0m\u001b[1;33m\u001b[0m\u001b[0m\n",
      "\u001b[1;31mModuleNotFoundError\u001b[0m: No module named 'sklearn.learning_curve'"
     ]
    }
   ],
   "source": [
    "import numpy as np\n",
    "import pandas as pd\n",
    "import sklearn\n",
    "#from sklearn.cross_validation import ShuffleSplit\n",
    "#from sklearn.model_selection import ShuffleSplit\n",
    "#import sklearn.model_selection import learning_curve\n",
    "#import sklearn.model_selection.learning_curve #experimenting the accessbility of other modules\n",
    "from sklearn.learning_curve import learning_curve\n",
    "from sklearn.model_selection import train_test_split\n",
    "from visuals import * #visuals.py\n",
    "\n",
    "%matplotlib inline #for better presentation\n",
    "\n",
    "df = pd.read_csv('housing.txt')\n",
    "features = df.drop('MEDV', axis = 1)\n",
    "    \n",
    "print(\"The Boston housing dataset has {} data points. Each data point has {} variables.\".format(*df.shape))\n",
    "#lets have a review at our data set\n",
    "print(\"A look at the data\");df[:10] \n",
    "print(\"A look at the features as well\"); features \n",
    "#now working on data distribution\n",
    "import matplotlib.pyplot as plt\n",
    "\n",
    "f = plt.figure()\n",
    "one = f.add_subplot(1, 1, 1)\n",
    "one.hist(df['RM'], bins = 30)  #using bins=30 here instead of usual conventional bin=15 \n",
    "plt.title(\"1: Average no of rooms\")\n",
    "plt.xlabel(\"RM\");plt.ylabel(\"freq\");plt.show() #graph 1\n",
    "\n",
    "f = plt.figure()\n",
    "two = f.add_subplot(1, 1, 1)\n",
    "two.hist(df['LSTAT'], bins = 30)  \n",
    "plt.title(\"2: Homeowners low class\")\n",
    "plt.xlabel(\"LSTAT\");plt.ylabel(\"freq\");plt.show() #graph 2\n",
    "\n",
    "f = plt.figure()\n",
    "three = f.add_subplot(1, 1, 1)\n",
    "three.hist(df['PTRATIO'], bins = 30)  \n",
    "plt.title(\"3: Students to Teachers ratio\")\n",
    "plt.xlabel(\"PTRATIO\");plt.ylabel(\"freq\");plt.show() #graph 3\n",
    "\n",
    "minp = np.min(df['MEDV']); maxp = np.max(df['MEDV']); meanp = np.mean(df['MEDV'])\n",
    "medp = np.median(df['MEDV']); stdp = np.std(df['MEDV'])\n",
    "\n",
    "print(\"#Some stats for our Boston housing dataset are as follows:\\n\")\n",
    "print(\"\\tMinimum price = ${}\".format(minp)) \n",
    "print(\"\\tMaximum price = ${}\".format(maxp))\n",
    "print(\"\\tMean price = ${}\".format(meanp))\n",
    "print(\"\\tMedian price = ${}\".format(medp))\n",
    "print(\"\\tStandard deviation of prices = ${}\".format(stdp))\n",
    "\n",
    "#plotting relations btw features and given y now\n",
    "f = plt.figure()\n",
    "one = f.add_subplot(1, 1, 1)\n",
    "one.scatter(df['RM'], df['MEDV']) \n",
    "plt.title(\"1. Avg SP vs Avg no of rooms\")\n",
    "plt.xlabel(\"RM\");plt.ylabel(\"Prices\");plt.show()# graph 1\n",
    "\n",
    "f = plt.figure()\n",
    "two = f.add_subplot(1, 1, 1)\n",
    "two.scatter(df['LSTAT'], df['MEDV'])  \n",
    "plt.title(\"2. Avg SP vs % of low class Homeowners\")\n",
    "plt.xlabel(\"LSTAT\");plt.ylabel(\"Prices\");plt.show()# graph 2\n",
    "\n",
    "f = plt.figure()\n",
    "three = f.add_subplot(1, 1, 1)\n",
    "three.scatter(df['PTRATIO'], df['MEDV'])  \n",
    "plt.title(\"3. Avg SP vs Studs:Trs\")\n",
    "plt.xlabel(\"PTRATIO\");plt.ylabel(\"Prices\");plt.show()# graoh 3\n",
    "\n",
    "from sklearn.metrics import r2_score\n",
    "def func(y_actual, y_prediction):\n",
    "    score = r2_score(y_actual,y_prediction)\n",
    "    \n",
    "    return score\n",
    "\n",
    "#score = func([3, -0.5, 2, 7, 4.2], [2.5, 0.0, 2.1, 7.8, 5.3]) #verifying how R2 works\n",
    "#print(\"Coefficient of relationshio, R^2, of {:.3f}.\".format(score))\n",
    "\n",
    "#splitting data into training and testing sets\n",
    "from sklearn.model_selection import train_test_split\n",
    "X_train, X_test, y_train, y_test = train_test_split(features, df['MEDV'], test_size=0.2, random_state=0)\n",
    "print(\"Training and testing split done :)\")\n",
    "      \n",
    "# Produce learning curves for varying training set sizes and maximum depths\n",
    "visuals.ModelLearning(features, df['MEDV'])\n",
    "      \n",
    "visuals.ModelComplexity(X_train, y_train)\n",
    "\n",
    "from sklearn.metrics import make_scorer\n",
    "from sklearn.tree import DecisionTreeRegressor\n",
    "from sklearn.grid_search import GridSearchCV\n",
    "def func2(X, y):\n",
    "    cv_sets = ShuffleSplit(X.shape[0], n_iter = 10, test_size = 0.20, random_state = 0)\n",
    "    regressor = DecisionTreeRegressor(random_state=0)\n",
    "    parameters = {'max_depth':list(range(1,11))}\n",
    "    scoring_fnc = make_scorer(performance_metric)\n",
    "    grid = GridSearchCV(regressor, parameters, cv=cv_sets, scoring=scoring_fnc)\n",
    "    grid = grid.fit(X, y)\n",
    "    return grid.best_estimator_\n",
    "      \n",
    "reg = func2(X_train, y_train)\n",
    "print(\"Parameter 'max_depth' is {} for the optimal model.\".format(reg.get_parameters()['max_depth']))\n",
    " #now applying model to a given data of a client     \n",
    "client_data = [[5, 17, 15], # Client 1\n",
    "               [4, 32, 22], # Client 2\n",
    "               [8, 3, 12]]  # Client 3\n",
    "\n",
    "# Showing predictions now\n",
    "for i, price in enumerate(reg.predict(client_data)):\n",
    "    print(\"Predicted selling price for Client {}'s home: ${:,.2f}\".format(i+1, price))\n",
    "      \n",
    "visuals.PredictTrials(features, df['MEDV'], fit_model, client_data)\n",
    "      \n"
   ]
  },
  {
   "cell_type": "code",
   "execution_count": 45,
   "metadata": {},
   "outputs": [
    {
     "name": "stdout",
     "output_type": "stream",
     "text": [
      "Requirement already satisfied: sklearn in c:\\programdata\\anaconda3\\lib\\site-packages (0.0)\n",
      "Requirement already satisfied: scikit-learn in c:\\programdata\\anaconda3\\lib\\site-packages (from sklearn) (0.23.2)\n",
      "Requirement already satisfied: threadpoolctl>=2.0.0 in c:\\programdata\\anaconda3\\lib\\site-packages (from scikit-learn->sklearn) (2.1.0)\n",
      "Requirement already satisfied: numpy>=1.13.3 in c:\\programdata\\anaconda3\\lib\\site-packages (from scikit-learn->sklearn) (1.19.2)\n",
      "Requirement already satisfied: joblib>=0.11 in c:\\programdata\\anaconda3\\lib\\site-packages (from scikit-learn->sklearn) (0.17.0)\n",
      "Requirement already satisfied: scipy>=0.19.1 in c:\\programdata\\anaconda3\\lib\\site-packages (from scikit-learn->sklearn) (1.5.2)\n",
      "Note: you may need to restart the kernel to use updated packages.\n"
     ]
    }
   ],
   "source": [
    "pip install sklearn"
   ]
  },
  {
   "cell_type": "code",
   "execution_count": 12,
   "metadata": {},
   "outputs": [],
   "source": [
    "from sklearn.model_selection import learning_curve\n"
   ]
  },
  {
   "cell_type": "code",
   "execution_count": 14,
   "metadata": {},
   "outputs": [],
   "source": [
    "#from sklearn.cross_validation import ShuffleSplit\n",
    "from sklearn.model_selection import ShuffleSplit"
   ]
  },
  {
   "cell_type": "code",
   "execution_count": null,
   "metadata": {},
   "outputs": [],
   "source": [
    "pip install skl"
   ]
  },
  {
   "cell_type": "code",
   "execution_count": 22,
   "metadata": {},
   "outputs": [
    {
     "name": "stdout",
     "output_type": "stream",
     "text": [
      "Requirement already satisfied: scikit-learn in c:\\programdata\\anaconda3\\lib\\site-packages (0.23.2)\n",
      "Requirement already satisfied: scipy>=0.19.1 in c:\\programdata\\anaconda3\\lib\\site-packages (from scikit-learn) (1.5.2)\n",
      "Requirement already satisfied: joblib>=0.11 in c:\\programdata\\anaconda3\\lib\\site-packages (from scikit-learn) (0.17.0)\n",
      "Requirement already satisfied: threadpoolctl>=2.0.0 in c:\\programdata\\anaconda3\\lib\\site-packages (from scikit-learn) (2.1.0)\n",
      "Requirement already satisfied: numpy>=1.13.3 in c:\\programdata\\anaconda3\\lib\\site-packages (from scikit-learn) (1.19.2)\n",
      "Note: you may need to restart the kernel to use updated packages.\n"
     ]
    }
   ],
   "source": [
    "pip install scikit-learn\n"
   ]
  },
  {
   "cell_type": "code",
   "execution_count": null,
   "metadata": {},
   "outputs": [],
   "source": []
  },
  {
   "cell_type": "code",
   "execution_count": null,
   "metadata": {},
   "outputs": [],
   "source": []
  },
  {
   "cell_type": "code",
   "execution_count": null,
   "metadata": {},
   "outputs": [],
   "source": []
  },
  {
   "cell_type": "code",
   "execution_count": null,
   "metadata": {},
   "outputs": [],
   "source": []
  },
  {
   "cell_type": "code",
   "execution_count": null,
   "metadata": {},
   "outputs": [],
   "source": []
  },
  {
   "cell_type": "code",
   "execution_count": null,
   "metadata": {},
   "outputs": [],
   "source": []
  }
 ],
 "metadata": {
  "kernelspec": {
   "display_name": "Python 3",
   "language": "python",
   "name": "python3"
  },
  "language_info": {
   "codemirror_mode": {
    "name": "ipython",
    "version": 3
   },
   "file_extension": ".py",
   "mimetype": "text/x-python",
   "name": "python",
   "nbconvert_exporter": "python",
   "pygments_lexer": "ipython3",
   "version": "3.8.5"
  }
 },
 "nbformat": 4,
 "nbformat_minor": 4
}
